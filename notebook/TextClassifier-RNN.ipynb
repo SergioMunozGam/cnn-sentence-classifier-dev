{
 "cells": [
  {
   "cell_type": "markdown",
   "metadata": {},
   "source": [
    "# Conv. neuronal network sentence classifier notebook\n",
    "In this notebook we will attemp to build a sentence classifier model based on https://www.tensorflow.org/tutorials/text/text_classification_rnn"
   ]
  },
  {
   "cell_type": "markdown",
   "metadata": {},
   "source": [
    "## 00. Packages setup"
   ]
  },
  {
   "cell_type": "markdown",
   "metadata": {},
   "source": [
    "We start by installing a set of requerired packages, we need to override some exiting package installations (e.g. fairing 0.5)"
   ]
  },
  {
   "cell_type": "code",
   "execution_count": 1,
   "metadata": {},
   "outputs": [],
   "source": [
    "import os\n",
    "import logging\n",
    "import site\n",
    "from pathlib import Path\n",
    "import sys"
   ]
  },
  {
   "cell_type": "code",
   "execution_count": 2,
   "metadata": {},
   "outputs": [
    {
     "data": {
      "text/plain": [
       "['/usr/local/lib/python3.6/dist-packages',\n",
       " '/usr/lib/python3/dist-packages',\n",
       " '/usr/lib/python3.6/dist-packages']"
      ]
     },
     "execution_count": 2,
     "metadata": {},
     "output_type": "execute_result"
    }
   ],
   "source": [
    "home = str(Path.home())\n",
    "local_py_path = os.path.join(home, \".local/lib/python3.6/site-packages\")\n",
    "if local_py_path not in sys.path:\n",
    "    logging.info(\"Adding %s to python path\", local_py_path)\n",
    "    sys.path.insert(0, local_py_path)\n",
    "site.getsitepackages()    "
   ]
  },
  {
   "cell_type": "code",
   "execution_count": 3,
   "metadata": {},
   "outputs": [
    {
     "name": "stdout",
     "output_type": "stream",
     "text": [
      "GCP Credentials OK\n"
     ]
    }
   ],
   "source": [
    "if not os.getenv(\"GOOGLE_APPLICATION_CREDENTIALS\"):\n",
    "    raise ValueError(\"Notebook is missing google application credentials\")\n",
    "else:\n",
    "    print('GCP Credentials OK')"
   ]
  },
  {
   "cell_type": "code",
   "execution_count": 4,
   "metadata": {},
   "outputs": [
    {
     "name": "stdout",
     "output_type": "stream",
     "text": [
      "\u001b[31mERROR: You must give at least one requirement to install (see \"pip help install\")\u001b[0m\n",
      "\u001b[33mWARNING: You are using pip version 19.3.1; however, version 20.0.2 is available.\n",
      "You should consider upgrading via the 'pip install --upgrade pip' command.\u001b[0m\n",
      "Requirement already satisfied: pandas in ./.local/lib/python3.6/site-packages (1.0.3)\n",
      "Requirement already satisfied: pytz>=2017.2 in /usr/local/lib/python3.6/dist-packages (from pandas) (2019.3)\n",
      "Requirement already satisfied: python-dateutil>=2.6.1 in ./.local/lib/python3.6/site-packages (from pandas) (2.8.0)\n",
      "Requirement already satisfied: numpy>=1.13.3 in /usr/local/lib/python3.6/dist-packages (from pandas) (1.18.1)\n",
      "Requirement already satisfied: six>=1.5 in /usr/local/lib/python3.6/dist-packages (from python-dateutil>=2.6.1->pandas) (1.13.0)\n",
      "\u001b[33mWARNING: You are using pip version 19.3.1; however, version 20.0.2 is available.\n",
      "You should consider upgrading via the 'pip install --upgrade pip' command.\u001b[0m\n",
      "Requirement already satisfied: tensorflow in /usr/local/lib/python3.6/dist-packages (2.1.0)\n",
      "Requirement already satisfied: wheel>=0.26; python_version >= \"3\" in /usr/lib/python3/dist-packages (from tensorflow) (0.30.0)\n",
      "Requirement already satisfied: scipy==1.4.1; python_version >= \"3\" in /usr/local/lib/python3.6/dist-packages (from tensorflow) (1.4.1)\n",
      "Requirement already satisfied: six>=1.12.0 in /usr/local/lib/python3.6/dist-packages (from tensorflow) (1.13.0)\n",
      "Requirement already satisfied: absl-py>=0.7.0 in /usr/local/lib/python3.6/dist-packages (from tensorflow) (0.9.0)\n",
      "Requirement already satisfied: numpy<2.0,>=1.16.0 in /usr/local/lib/python3.6/dist-packages (from tensorflow) (1.18.1)\n",
      "Requirement already satisfied: keras-preprocessing>=1.1.0 in /usr/local/lib/python3.6/dist-packages (from tensorflow) (1.1.0)\n",
      "Requirement already satisfied: opt-einsum>=2.3.2 in /usr/local/lib/python3.6/dist-packages (from tensorflow) (3.1.0)\n",
      "Requirement already satisfied: termcolor>=1.1.0 in /usr/local/lib/python3.6/dist-packages (from tensorflow) (1.1.0)\n",
      "Requirement already satisfied: grpcio>=1.8.6 in /usr/local/lib/python3.6/dist-packages (from tensorflow) (1.26.0)\n",
      "Requirement already satisfied: astor>=0.6.0 in /usr/local/lib/python3.6/dist-packages (from tensorflow) (0.8.1)\n",
      "Requirement already satisfied: google-pasta>=0.1.6 in /usr/local/lib/python3.6/dist-packages (from tensorflow) (0.1.8)\n",
      "Requirement already satisfied: gast==0.2.2 in /usr/local/lib/python3.6/dist-packages (from tensorflow) (0.2.2)\n",
      "Requirement already satisfied: keras-applications>=1.0.8 in /usr/local/lib/python3.6/dist-packages (from tensorflow) (1.0.8)\n",
      "Requirement already satisfied: tensorboard<2.2.0,>=2.1.0 in /usr/local/lib/python3.6/dist-packages (from tensorflow) (2.1.0)\n",
      "Requirement already satisfied: protobuf>=3.8.0 in /usr/local/lib/python3.6/dist-packages (from tensorflow) (3.11.2)\n",
      "Requirement already satisfied: wrapt>=1.11.1 in /usr/local/lib/python3.6/dist-packages (from tensorflow) (1.11.2)\n",
      "Requirement already satisfied: tensorflow-estimator<2.2.0,>=2.1.0rc0 in /usr/local/lib/python3.6/dist-packages (from tensorflow) (2.1.0)\n",
      "Requirement already satisfied: h5py in /usr/local/lib/python3.6/dist-packages (from keras-applications>=1.0.8->tensorflow) (2.10.0)\n",
      "Requirement already satisfied: markdown>=2.6.8 in /usr/local/lib/python3.6/dist-packages (from tensorboard<2.2.0,>=2.1.0->tensorflow) (3.1.1)\n",
      "Requirement already satisfied: google-auth<2,>=1.6.3 in /usr/local/lib/python3.6/dist-packages (from tensorboard<2.2.0,>=2.1.0->tensorflow) (1.10.0)\n",
      "Requirement already satisfied: requests<3,>=2.21.0 in /usr/local/lib/python3.6/dist-packages (from tensorboard<2.2.0,>=2.1.0->tensorflow) (2.22.0)\n",
      "Requirement already satisfied: setuptools>=41.0.0 in /usr/local/lib/python3.6/dist-packages (from tensorboard<2.2.0,>=2.1.0->tensorflow) (44.0.0)\n",
      "Requirement already satisfied: werkzeug>=0.11.15 in /usr/local/lib/python3.6/dist-packages (from tensorboard<2.2.0,>=2.1.0->tensorflow) (0.16.0)\n",
      "Requirement already satisfied: google-auth-oauthlib<0.5,>=0.4.1 in /usr/local/lib/python3.6/dist-packages (from tensorboard<2.2.0,>=2.1.0->tensorflow) (0.4.1)\n",
      "Requirement already satisfied: pyasn1-modules>=0.2.1 in /usr/local/lib/python3.6/dist-packages (from google-auth<2,>=1.6.3->tensorboard<2.2.0,>=2.1.0->tensorflow) (0.2.8)\n",
      "Requirement already satisfied: rsa<4.1,>=3.1.4 in /usr/local/lib/python3.6/dist-packages (from google-auth<2,>=1.6.3->tensorboard<2.2.0,>=2.1.0->tensorflow) (4.0)\n",
      "Requirement already satisfied: cachetools<5.0,>=2.0.0 in /usr/local/lib/python3.6/dist-packages (from google-auth<2,>=1.6.3->tensorboard<2.2.0,>=2.1.0->tensorflow) (4.0.0)\n",
      "Requirement already satisfied: certifi>=2017.4.17 in /usr/local/lib/python3.6/dist-packages (from requests<3,>=2.21.0->tensorboard<2.2.0,>=2.1.0->tensorflow) (2019.11.28)\n",
      "Requirement already satisfied: chardet<3.1.0,>=3.0.2 in /usr/local/lib/python3.6/dist-packages (from requests<3,>=2.21.0->tensorboard<2.2.0,>=2.1.0->tensorflow) (3.0.4)\n",
      "Requirement already satisfied: idna<2.9,>=2.5 in /usr/lib/python3/dist-packages (from requests<3,>=2.21.0->tensorboard<2.2.0,>=2.1.0->tensorflow) (2.6)\n",
      "Requirement already satisfied: urllib3!=1.25.0,!=1.25.1,<1.26,>=1.21.1 in ./.local/lib/python3.6/site-packages (from requests<3,>=2.21.0->tensorboard<2.2.0,>=2.1.0->tensorflow) (1.24.2)\n",
      "Requirement already satisfied: requests-oauthlib>=0.7.0 in /usr/local/lib/python3.6/dist-packages (from google-auth-oauthlib<0.5,>=0.4.1->tensorboard<2.2.0,>=2.1.0->tensorflow) (1.3.0)\n",
      "Requirement already satisfied: pyasn1<0.5.0,>=0.4.6 in /usr/local/lib/python3.6/dist-packages (from pyasn1-modules>=0.2.1->google-auth<2,>=1.6.3->tensorboard<2.2.0,>=2.1.0->tensorflow) (0.4.8)\n",
      "Requirement already satisfied: oauthlib>=3.0.0 in /usr/local/lib/python3.6/dist-packages (from requests-oauthlib>=0.7.0->google-auth-oauthlib<0.5,>=0.4.1->tensorboard<2.2.0,>=2.1.0->tensorflow) (3.1.0)\n",
      "\u001b[33mWARNING: You are using pip version 19.3.1; however, version 20.0.2 is available.\n",
      "You should consider upgrading via the 'pip install --upgrade pip' command.\u001b[0m\n",
      "Requirement already satisfied: keras in ./.local/lib/python3.6/site-packages (2.3.1)\n",
      "Requirement already satisfied: pyyaml in /usr/local/lib/python3.6/dist-packages (from keras) (5.3)\n",
      "Requirement already satisfied: h5py in /usr/local/lib/python3.6/dist-packages (from keras) (2.10.0)\n",
      "Requirement already satisfied: keras-applications>=1.0.6 in /usr/local/lib/python3.6/dist-packages (from keras) (1.0.8)\n",
      "Requirement already satisfied: keras-preprocessing>=1.0.5 in /usr/local/lib/python3.6/dist-packages (from keras) (1.1.0)\n",
      "Requirement already satisfied: numpy>=1.9.1 in /usr/local/lib/python3.6/dist-packages (from keras) (1.18.1)\n",
      "Requirement already satisfied: six>=1.9.0 in /usr/local/lib/python3.6/dist-packages (from keras) (1.13.0)\n",
      "Requirement already satisfied: scipy>=0.14 in /usr/local/lib/python3.6/dist-packages (from keras) (1.4.1)\n",
      "\u001b[33mWARNING: You are using pip version 19.3.1; however, version 20.0.2 is available.\n",
      "You should consider upgrading via the 'pip install --upgrade pip' command.\u001b[0m\n",
      "Requirement already satisfied: numpy in /usr/local/lib/python3.6/dist-packages (1.18.1)\n",
      "\u001b[33mWARNING: You are using pip version 19.3.1; however, version 20.0.2 is available.\n",
      "You should consider upgrading via the 'pip install --upgrade pip' command.\u001b[0m\n",
      "Requirement already satisfied: gcsfs in ./.local/lib/python3.6/site-packages (0.6.1)\n",
      "Requirement already satisfied: google-auth-oauthlib in /usr/local/lib/python3.6/dist-packages (from gcsfs) (0.4.1)\n",
      "Requirement already satisfied: fsspec>=0.6.0 in ./.local/lib/python3.6/site-packages (from gcsfs) (0.7.1)\n",
      "Requirement already satisfied: decorator in /usr/local/lib/python3.6/dist-packages (from gcsfs) (4.4.1)\n",
      "Requirement already satisfied: google-auth>=1.2 in /usr/local/lib/python3.6/dist-packages (from gcsfs) (1.10.0)\n",
      "Requirement already satisfied: requests in /usr/local/lib/python3.6/dist-packages (from gcsfs) (2.22.0)\n",
      "Requirement already satisfied: requests-oauthlib>=0.7.0 in /usr/local/lib/python3.6/dist-packages (from google-auth-oauthlib->gcsfs) (1.3.0)\n",
      "Requirement already satisfied: cachetools<5.0,>=2.0.0 in /usr/local/lib/python3.6/dist-packages (from google-auth>=1.2->gcsfs) (4.0.0)\n",
      "Requirement already satisfied: pyasn1-modules>=0.2.1 in /usr/local/lib/python3.6/dist-packages (from google-auth>=1.2->gcsfs) (0.2.8)\n",
      "Requirement already satisfied: six>=1.9.0 in /usr/local/lib/python3.6/dist-packages (from google-auth>=1.2->gcsfs) (1.13.0)\n",
      "Requirement already satisfied: setuptools>=40.3.0 in /usr/local/lib/python3.6/dist-packages (from google-auth>=1.2->gcsfs) (44.0.0)\n",
      "Requirement already satisfied: rsa<4.1,>=3.1.4 in /usr/local/lib/python3.6/dist-packages (from google-auth>=1.2->gcsfs) (4.0)\n",
      "Requirement already satisfied: certifi>=2017.4.17 in /usr/local/lib/python3.6/dist-packages (from requests->gcsfs) (2019.11.28)\n",
      "Requirement already satisfied: chardet<3.1.0,>=3.0.2 in /usr/local/lib/python3.6/dist-packages (from requests->gcsfs) (3.0.4)\n",
      "Requirement already satisfied: urllib3!=1.25.0,!=1.25.1,<1.26,>=1.21.1 in ./.local/lib/python3.6/site-packages (from requests->gcsfs) (1.24.2)\n",
      "Requirement already satisfied: idna<2.9,>=2.5 in /usr/lib/python3/dist-packages (from requests->gcsfs) (2.6)\n",
      "Requirement already satisfied: oauthlib>=3.0.0 in /usr/local/lib/python3.6/dist-packages (from requests-oauthlib>=0.7.0->google-auth-oauthlib->gcsfs) (3.1.0)\n",
      "Requirement already satisfied: pyasn1<0.5.0,>=0.4.6 in /usr/local/lib/python3.6/dist-packages (from pyasn1-modules>=0.2.1->google-auth>=1.2->gcsfs) (0.4.8)\n",
      "\u001b[33mWARNING: You are using pip version 19.3.1; however, version 20.0.2 is available.\n",
      "You should consider upgrading via the 'pip install --upgrade pip' command.\u001b[0m\n",
      "Requirement already satisfied: google-cloud-storage in /usr/local/lib/python3.6/dist-packages (1.25.0)\n",
      "Requirement already satisfied: google-cloud-core<2.0dev,>=1.2.0 in /usr/local/lib/python3.6/dist-packages (from google-cloud-storage) (1.3.0)\n",
      "Requirement already satisfied: google-resumable-media<0.6dev,>=0.5.0 in /usr/local/lib/python3.6/dist-packages (from google-cloud-storage) (0.5.0)\n",
      "Requirement already satisfied: google-auth<2.0dev,>=1.9.0 in /usr/local/lib/python3.6/dist-packages (from google-cloud-storage) (1.10.0)\n",
      "Requirement already satisfied: google-api-core<2.0.0dev,>=1.16.0 in /usr/local/lib/python3.6/dist-packages (from google-cloud-core<2.0dev,>=1.2.0->google-cloud-storage) (1.16.0)\n",
      "Requirement already satisfied: six in /usr/local/lib/python3.6/dist-packages (from google-resumable-media<0.6dev,>=0.5.0->google-cloud-storage) (1.13.0)\n",
      "Requirement already satisfied: rsa<4.1,>=3.1.4 in /usr/local/lib/python3.6/dist-packages (from google-auth<2.0dev,>=1.9.0->google-cloud-storage) (4.0)\n",
      "Requirement already satisfied: pyasn1-modules>=0.2.1 in /usr/local/lib/python3.6/dist-packages (from google-auth<2.0dev,>=1.9.0->google-cloud-storage) (0.2.8)\n",
      "Requirement already satisfied: setuptools>=40.3.0 in /usr/local/lib/python3.6/dist-packages (from google-auth<2.0dev,>=1.9.0->google-cloud-storage) (44.0.0)\n",
      "Requirement already satisfied: cachetools<5.0,>=2.0.0 in /usr/local/lib/python3.6/dist-packages (from google-auth<2.0dev,>=1.9.0->google-cloud-storage) (4.0.0)\n",
      "Requirement already satisfied: googleapis-common-protos<2.0dev,>=1.6.0 in /usr/local/lib/python3.6/dist-packages (from google-api-core<2.0.0dev,>=1.16.0->google-cloud-core<2.0dev,>=1.2.0->google-cloud-storage) (1.51.0)\n",
      "Requirement already satisfied: pytz in /usr/local/lib/python3.6/dist-packages (from google-api-core<2.0.0dev,>=1.16.0->google-cloud-core<2.0dev,>=1.2.0->google-cloud-storage) (2019.3)\n",
      "Requirement already satisfied: requests<3.0.0dev,>=2.18.0 in /usr/local/lib/python3.6/dist-packages (from google-api-core<2.0.0dev,>=1.16.0->google-cloud-core<2.0dev,>=1.2.0->google-cloud-storage) (2.22.0)\n",
      "Requirement already satisfied: protobuf>=3.4.0 in /usr/local/lib/python3.6/dist-packages (from google-api-core<2.0.0dev,>=1.16.0->google-cloud-core<2.0dev,>=1.2.0->google-cloud-storage) (3.11.2)\n",
      "Requirement already satisfied: pyasn1>=0.1.3 in /usr/local/lib/python3.6/dist-packages (from rsa<4.1,>=3.1.4->google-auth<2.0dev,>=1.9.0->google-cloud-storage) (0.4.8)\n",
      "Requirement already satisfied: certifi>=2017.4.17 in /usr/local/lib/python3.6/dist-packages (from requests<3.0.0dev,>=2.18.0->google-api-core<2.0.0dev,>=1.16.0->google-cloud-core<2.0dev,>=1.2.0->google-cloud-storage) (2019.11.28)\n",
      "Requirement already satisfied: chardet<3.1.0,>=3.0.2 in /usr/local/lib/python3.6/dist-packages (from requests<3.0.0dev,>=2.18.0->google-api-core<2.0.0dev,>=1.16.0->google-cloud-core<2.0dev,>=1.2.0->google-cloud-storage) (3.0.4)\n",
      "Requirement already satisfied: urllib3!=1.25.0,!=1.25.1,<1.26,>=1.21.1 in ./.local/lib/python3.6/site-packages (from requests<3.0.0dev,>=2.18.0->google-api-core<2.0.0dev,>=1.16.0->google-cloud-core<2.0dev,>=1.2.0->google-cloud-storage) (1.24.2)\n",
      "Requirement already satisfied: idna<2.9,>=2.5 in /usr/lib/python3/dist-packages (from requests<3.0.0dev,>=2.18.0->google-api-core<2.0.0dev,>=1.16.0->google-cloud-core<2.0dev,>=1.2.0->google-cloud-storage) (2.6)\n",
      "\u001b[33mWARNING: You are using pip version 19.3.1; however, version 20.0.2 is available.\n",
      "You should consider upgrading via the 'pip install --upgrade pip' command.\u001b[0m\n",
      "Requirement already satisfied: gensim in ./.local/lib/python3.6/site-packages (3.8.1)\n",
      "Requirement already satisfied: scipy>=0.18.1 in /usr/local/lib/python3.6/dist-packages (from gensim) (1.4.1)\n",
      "Requirement already satisfied: numpy>=1.11.3 in /usr/local/lib/python3.6/dist-packages (from gensim) (1.18.1)\n",
      "Requirement already satisfied: smart-open>=1.8.1 in ./.local/lib/python3.6/site-packages (from gensim) (1.10.0)\n",
      "Requirement already satisfied: six>=1.5.0 in /usr/local/lib/python3.6/dist-packages (from gensim) (1.13.0)\n",
      "Requirement already satisfied: boto3 in ./.local/lib/python3.6/site-packages (from smart-open>=1.8.1->gensim) (1.12.37)\n",
      "Requirement already satisfied: requests in /usr/local/lib/python3.6/dist-packages (from smart-open>=1.8.1->gensim) (2.22.0)\n",
      "Requirement already satisfied: google-cloud-storage in /usr/local/lib/python3.6/dist-packages (from smart-open>=1.8.1->gensim) (1.25.0)\n",
      "Requirement already satisfied: s3transfer<0.4.0,>=0.3.0 in ./.local/lib/python3.6/site-packages (from boto3->smart-open>=1.8.1->gensim) (0.3.3)\n",
      "Requirement already satisfied: jmespath<1.0.0,>=0.7.1 in ./.local/lib/python3.6/site-packages (from boto3->smart-open>=1.8.1->gensim) (0.9.5)\n",
      "Requirement already satisfied: botocore<1.16.0,>=1.15.37 in ./.local/lib/python3.6/site-packages (from boto3->smart-open>=1.8.1->gensim) (1.15.37)\n",
      "Requirement already satisfied: certifi>=2017.4.17 in /usr/local/lib/python3.6/dist-packages (from requests->smart-open>=1.8.1->gensim) (2019.11.28)\n",
      "Requirement already satisfied: idna<2.9,>=2.5 in /usr/lib/python3/dist-packages (from requests->smart-open>=1.8.1->gensim) (2.6)\n",
      "Requirement already satisfied: chardet<3.1.0,>=3.0.2 in /usr/local/lib/python3.6/dist-packages (from requests->smart-open>=1.8.1->gensim) (3.0.4)\n",
      "Requirement already satisfied: urllib3!=1.25.0,!=1.25.1,<1.26,>=1.21.1 in ./.local/lib/python3.6/site-packages (from requests->smart-open>=1.8.1->gensim) (1.24.2)\n",
      "Requirement already satisfied: google-resumable-media<0.6dev,>=0.5.0 in /usr/local/lib/python3.6/dist-packages (from google-cloud-storage->smart-open>=1.8.1->gensim) (0.5.0)\n",
      "Requirement already satisfied: google-cloud-core<2.0dev,>=1.2.0 in /usr/local/lib/python3.6/dist-packages (from google-cloud-storage->smart-open>=1.8.1->gensim) (1.3.0)\n",
      "Requirement already satisfied: google-auth<2.0dev,>=1.9.0 in /usr/local/lib/python3.6/dist-packages (from google-cloud-storage->smart-open>=1.8.1->gensim) (1.10.0)\n",
      "Requirement already satisfied: python-dateutil<3.0.0,>=2.1 in ./.local/lib/python3.6/site-packages (from botocore<1.16.0,>=1.15.37->boto3->smart-open>=1.8.1->gensim) (2.8.0)\n",
      "Requirement already satisfied: docutils<0.16,>=0.10 in ./.local/lib/python3.6/site-packages (from botocore<1.16.0,>=1.15.37->boto3->smart-open>=1.8.1->gensim) (0.15.2)\n",
      "Requirement already satisfied: google-api-core<2.0.0dev,>=1.16.0 in /usr/local/lib/python3.6/dist-packages (from google-cloud-core<2.0dev,>=1.2.0->google-cloud-storage->smart-open>=1.8.1->gensim) (1.16.0)\n",
      "Requirement already satisfied: pyasn1-modules>=0.2.1 in /usr/local/lib/python3.6/dist-packages (from google-auth<2.0dev,>=1.9.0->google-cloud-storage->smart-open>=1.8.1->gensim) (0.2.8)\n",
      "Requirement already satisfied: cachetools<5.0,>=2.0.0 in /usr/local/lib/python3.6/dist-packages (from google-auth<2.0dev,>=1.9.0->google-cloud-storage->smart-open>=1.8.1->gensim) (4.0.0)\n",
      "Requirement already satisfied: setuptools>=40.3.0 in /usr/local/lib/python3.6/dist-packages (from google-auth<2.0dev,>=1.9.0->google-cloud-storage->smart-open>=1.8.1->gensim) (44.0.0)\n",
      "Requirement already satisfied: rsa<4.1,>=3.1.4 in /usr/local/lib/python3.6/dist-packages (from google-auth<2.0dev,>=1.9.0->google-cloud-storage->smart-open>=1.8.1->gensim) (4.0)\n",
      "Requirement already satisfied: pytz in /usr/local/lib/python3.6/dist-packages (from google-api-core<2.0.0dev,>=1.16.0->google-cloud-core<2.0dev,>=1.2.0->google-cloud-storage->smart-open>=1.8.1->gensim) (2019.3)\n",
      "Requirement already satisfied: googleapis-common-protos<2.0dev,>=1.6.0 in /usr/local/lib/python3.6/dist-packages (from google-api-core<2.0.0dev,>=1.16.0->google-cloud-core<2.0dev,>=1.2.0->google-cloud-storage->smart-open>=1.8.1->gensim) (1.51.0)\n",
      "Requirement already satisfied: protobuf>=3.4.0 in /usr/local/lib/python3.6/dist-packages (from google-api-core<2.0.0dev,>=1.16.0->google-cloud-core<2.0dev,>=1.2.0->google-cloud-storage->smart-open>=1.8.1->gensim) (3.11.2)\n",
      "Requirement already satisfied: pyasn1<0.5.0,>=0.4.6 in /usr/local/lib/python3.6/dist-packages (from pyasn1-modules>=0.2.1->google-auth<2.0dev,>=1.9.0->google-cloud-storage->smart-open>=1.8.1->gensim) (0.4.8)\n",
      "\u001b[33mWARNING: You are using pip version 19.3.1; however, version 20.0.2 is available.\n",
      "You should consider upgrading via the 'pip install --upgrade pip' command.\u001b[0m\n",
      "Requirement already satisfied: kubeflow in ./.local/lib/python3.6/site-packages (0.0.3)\n",
      "Requirement already satisfied: kubernetes>=10.0.1 in /usr/local/lib/python3.6/dist-packages (from kubeflow) (10.0.1)\n",
      "Requirement already satisfied: boto3>=1.9.0 in ./.local/lib/python3.6/site-packages (from kubeflow) (1.12.37)\n",
      "Requirement already satisfied: azure>=4.0.0 in ./.local/lib/python3.6/site-packages (from kubeflow) (4.0.0)\n",
      "Requirement already satisfied: cloudpickle>=0.8 in /usr/local/lib/python3.6/dist-packages (from kubeflow) (1.2.2)\n",
      "Requirement already satisfied: numpy>=1.14 in /usr/local/lib/python3.6/dist-packages (from kubeflow) (1.18.1)\n",
      "Requirement already satisfied: future>=0.17.1 in /usr/local/lib/python3.6/dist-packages (from kubeflow) (0.18.2)\n",
      "Requirement already satisfied: google-auth>=1.6.2 in /usr/local/lib/python3.6/dist-packages (from kubeflow) (1.10.0)\n",
      "Requirement already satisfied: requests>=2.21.0 in /usr/local/lib/python3.6/dist-packages (from kubeflow) (2.22.0)\n",
      "Requirement already satisfied: tornado>=6.0.1 in ./.local/lib/python3.6/site-packages (from kubeflow) (6.0.4)\n",
      "Requirement already satisfied: google-api-python-client>=1.7.8 in /usr/local/lib/python3.6/dist-packages (from kubeflow) (1.7.11)\n",
      "Requirement already satisfied: notebook>=5.6.0 in /usr/local/lib/python3.6/dist-packages (from kubeflow) (6.0.2)\n",
      "Requirement already satisfied: httplib2>=0.12.0 in /usr/local/lib/python3.6/dist-packages (from kubeflow) (0.17.0)\n",
      "Requirement already satisfied: six>=1.11.0 in /usr/local/lib/python3.6/dist-packages (from kubeflow) (1.13.0)\n",
      "Requirement already satisfied: setuptools>=34.0.0 in /usr/local/lib/python3.6/dist-packages (from kubeflow) (44.0.0)\n",
      "Requirement already satisfied: oauth2client>=4.0.0 in /usr/local/lib/python3.6/dist-packages (from kubeflow) (4.1.3)\n",
      "Requirement already satisfied: docker>=3.4.1 in /usr/local/lib/python3.6/dist-packages (from kubeflow) (4.1.0)\n",
      "Requirement already satisfied: google-cloud-storage>=1.13.2 in /usr/local/lib/python3.6/dist-packages (from kubeflow) (1.25.0)\n",
      "Requirement already satisfied: urllib3==1.24.2 in ./.local/lib/python3.6/site-packages (from kubeflow) (1.24.2)\n",
      "Requirement already satisfied: certifi>=14.05.14 in /usr/local/lib/python3.6/dist-packages (from kubernetes>=10.0.1->kubeflow) (2019.11.28)\n",
      "Requirement already satisfied: pyyaml>=3.12 in /usr/local/lib/python3.6/dist-packages (from kubernetes>=10.0.1->kubeflow) (5.3)\n",
      "Requirement already satisfied: requests-oauthlib in /usr/local/lib/python3.6/dist-packages (from kubernetes>=10.0.1->kubeflow) (1.3.0)\n",
      "Requirement already satisfied: python-dateutil>=2.5.3 in ./.local/lib/python3.6/site-packages (from kubernetes>=10.0.1->kubeflow) (2.8.0)\n",
      "Requirement already satisfied: websocket-client!=0.40.0,!=0.41.*,!=0.42.*,>=0.32.0 in /usr/local/lib/python3.6/dist-packages (from kubernetes>=10.0.1->kubeflow) (0.57.0)\n",
      "Requirement already satisfied: jmespath<1.0.0,>=0.7.1 in ./.local/lib/python3.6/site-packages (from boto3>=1.9.0->kubeflow) (0.9.5)\n",
      "Requirement already satisfied: s3transfer<0.4.0,>=0.3.0 in ./.local/lib/python3.6/site-packages (from boto3>=1.9.0->kubeflow) (0.3.3)\n",
      "Requirement already satisfied: botocore<1.16.0,>=1.15.37 in ./.local/lib/python3.6/site-packages (from boto3>=1.9.0->kubeflow) (1.15.37)\n",
      "Requirement already satisfied: azure-graphrbac~=0.40.0 in ./.local/lib/python3.6/site-packages (from azure>=4.0.0->kubeflow) (0.40.0)\n",
      "Requirement already satisfied: azure-batch~=4.1 in ./.local/lib/python3.6/site-packages (from azure>=4.0.0->kubeflow) (4.1.3)\n",
      "Requirement already satisfied: azure-applicationinsights~=0.1.0 in ./.local/lib/python3.6/site-packages (from azure>=4.0.0->kubeflow) (0.1.0)\n",
      "Requirement already satisfied: azure-servicemanagement-legacy~=0.20.6 in ./.local/lib/python3.6/site-packages (from azure>=4.0.0->kubeflow) (0.20.6)\n",
      "Requirement already satisfied: azure-keyvault~=1.0 in ./.local/lib/python3.6/site-packages (from azure>=4.0.0->kubeflow) (1.1.0)\n",
      "Requirement already satisfied: azure-storage-file~=1.3 in ./.local/lib/python3.6/site-packages (from azure>=4.0.0->kubeflow) (1.4.0)\n",
      "Requirement already satisfied: azure-servicebus~=0.21.1 in ./.local/lib/python3.6/site-packages (from azure>=4.0.0->kubeflow) (0.21.1)\n",
      "Requirement already satisfied: azure-storage-queue~=1.3 in ./.local/lib/python3.6/site-packages (from azure>=4.0.0->kubeflow) (1.4.0)\n",
      "Requirement already satisfied: azure-storage-blob~=1.3 in ./.local/lib/python3.6/site-packages (from azure>=4.0.0->kubeflow) (1.5.0)\n",
      "Requirement already satisfied: azure-loganalytics~=0.1.0 in ./.local/lib/python3.6/site-packages (from azure>=4.0.0->kubeflow) (0.1.0)\n",
      "Requirement already satisfied: azure-servicefabric~=6.3.0.0 in ./.local/lib/python3.6/site-packages (from azure>=4.0.0->kubeflow) (6.3.0.0)\n",
      "Requirement already satisfied: azure-cosmosdb-table~=1.0 in ./.local/lib/python3.6/site-packages (from azure>=4.0.0->kubeflow) (1.0.6)\n",
      "Requirement already satisfied: azure-eventgrid~=1.1 in ./.local/lib/python3.6/site-packages (from azure>=4.0.0->kubeflow) (1.3.0)\n",
      "Requirement already satisfied: azure-datalake-store~=0.0.18 in ./.local/lib/python3.6/site-packages (from azure>=4.0.0->kubeflow) (0.0.48)\n",
      "Requirement already satisfied: azure-mgmt~=4.0 in ./.local/lib/python3.6/site-packages (from azure>=4.0.0->kubeflow) (4.0.0)\n",
      "Requirement already satisfied: pyasn1-modules>=0.2.1 in /usr/local/lib/python3.6/dist-packages (from google-auth>=1.6.2->kubeflow) (0.2.8)\n",
      "Requirement already satisfied: rsa<4.1,>=3.1.4 in /usr/local/lib/python3.6/dist-packages (from google-auth>=1.6.2->kubeflow) (4.0)\n",
      "Requirement already satisfied: cachetools<5.0,>=2.0.0 in /usr/local/lib/python3.6/dist-packages (from google-auth>=1.6.2->kubeflow) (4.0.0)\n",
      "Requirement already satisfied: idna<2.9,>=2.5 in /usr/lib/python3/dist-packages (from requests>=2.21.0->kubeflow) (2.6)\n",
      "Requirement already satisfied: chardet<3.1.0,>=3.0.2 in /usr/local/lib/python3.6/dist-packages (from requests>=2.21.0->kubeflow) (3.0.4)\n",
      "Requirement already satisfied: uritemplate<4dev,>=3.0.0 in /usr/local/lib/python3.6/dist-packages (from google-api-python-client>=1.7.8->kubeflow) (3.0.1)\n",
      "Requirement already satisfied: google-auth-httplib2>=0.0.3 in /usr/local/lib/python3.6/dist-packages (from google-api-python-client>=1.7.8->kubeflow) (0.0.3)\n",
      "Requirement already satisfied: ipykernel in /usr/local/lib/python3.6/dist-packages (from notebook>=5.6.0->kubeflow) (5.1.3)\n",
      "Requirement already satisfied: prometheus-client in /usr/local/lib/python3.6/dist-packages (from notebook>=5.6.0->kubeflow) (0.7.1)\n",
      "Requirement already satisfied: jinja2 in /usr/local/lib/python3.6/dist-packages (from notebook>=5.6.0->kubeflow) (2.10.3)\n",
      "Requirement already satisfied: jupyter-core>=4.6.0 in /usr/local/lib/python3.6/dist-packages (from notebook>=5.6.0->kubeflow) (4.6.1)\n",
      "Requirement already satisfied: nbformat in /usr/local/lib/python3.6/dist-packages (from notebook>=5.6.0->kubeflow) (5.0.3)\n",
      "Requirement already satisfied: Send2Trash in /usr/local/lib/python3.6/dist-packages (from notebook>=5.6.0->kubeflow) (1.5.0)\n",
      "Requirement already satisfied: pyzmq>=17 in /usr/local/lib/python3.6/dist-packages (from notebook>=5.6.0->kubeflow) (18.1.1)\n",
      "Requirement already satisfied: nbconvert in /usr/local/lib/python3.6/dist-packages (from notebook>=5.6.0->kubeflow) (5.6.1)\n",
      "Requirement already satisfied: ipython-genutils in /usr/local/lib/python3.6/dist-packages (from notebook>=5.6.0->kubeflow) (0.2.0)\n",
      "Requirement already satisfied: jupyter-client>=5.3.4 in /usr/local/lib/python3.6/dist-packages (from notebook>=5.6.0->kubeflow) (5.3.4)\n",
      "Requirement already satisfied: traitlets>=4.2.1 in /usr/local/lib/python3.6/dist-packages (from notebook>=5.6.0->kubeflow) (4.3.3)\n",
      "Requirement already satisfied: terminado>=0.8.1 in /usr/local/lib/python3.6/dist-packages (from notebook>=5.6.0->kubeflow) (0.8.3)\n",
      "Requirement already satisfied: pyasn1>=0.1.7 in /usr/local/lib/python3.6/dist-packages (from oauth2client>=4.0.0->kubeflow) (0.4.8)\n",
      "Requirement already satisfied: google-resumable-media<0.6dev,>=0.5.0 in /usr/local/lib/python3.6/dist-packages (from google-cloud-storage>=1.13.2->kubeflow) (0.5.0)\n",
      "Requirement already satisfied: google-cloud-core<2.0dev,>=1.2.0 in /usr/local/lib/python3.6/dist-packages (from google-cloud-storage>=1.13.2->kubeflow) (1.3.0)\n",
      "Requirement already satisfied: oauthlib>=3.0.0 in /usr/local/lib/python3.6/dist-packages (from requests-oauthlib->kubernetes>=10.0.1->kubeflow) (3.1.0)\n",
      "Requirement already satisfied: docutils<0.16,>=0.10 in ./.local/lib/python3.6/site-packages (from botocore<1.16.0,>=1.15.37->boto3>=1.9.0->kubeflow) (0.15.2)\n",
      "Requirement already satisfied: azure-nspkg>=2.0.0 in ./.local/lib/python3.6/site-packages (from azure-graphrbac~=0.40.0->azure>=4.0.0->kubeflow) (3.0.2)\n",
      "Requirement already satisfied: azure-common~=1.1 in ./.local/lib/python3.6/site-packages (from azure-graphrbac~=0.40.0->azure>=4.0.0->kubeflow) (1.1.25)\n",
      "Requirement already satisfied: msrestazure<2.0.0,>=0.4.20 in ./.local/lib/python3.6/site-packages (from azure-graphrbac~=0.40.0->azure>=4.0.0->kubeflow) (0.6.3)\n",
      "Requirement already satisfied: msrest<2.0.0,>=0.5.4 in ./.local/lib/python3.6/site-packages (from azure-applicationinsights~=0.1.0->azure>=4.0.0->kubeflow) (0.6.12)\n",
      "Requirement already satisfied: cryptography>=2.1.4 in /usr/lib/python3/dist-packages (from azure-keyvault~=1.0->azure>=4.0.0->kubeflow) (2.1.4)\n",
      "Requirement already satisfied: azure-storage-common~=1.4 in ./.local/lib/python3.6/site-packages (from azure-storage-file~=1.3->azure>=4.0.0->kubeflow) (1.4.2)\n",
      "Requirement already satisfied: azure-cosmosdb-nspkg>=2.0.0 in ./.local/lib/python3.6/site-packages (from azure-cosmosdb-table~=1.0->azure>=4.0.0->kubeflow) (2.0.2)\n",
      "Requirement already satisfied: adal>=0.4.2 in ./.local/lib/python3.6/site-packages (from azure-datalake-store~=0.0.18->azure>=4.0.0->kubeflow) (1.2.2)\n",
      "Requirement already satisfied: cffi in ./.local/lib/python3.6/site-packages (from azure-datalake-store~=0.0.18->azure>=4.0.0->kubeflow) (1.14.0)\n",
      "Requirement already satisfied: azure-mgmt-monitor~=0.5.2 in ./.local/lib/python3.6/site-packages (from azure-mgmt~=4.0->azure>=4.0.0->kubeflow) (0.5.2)\n",
      "Requirement already satisfied: azure-mgmt-relay~=0.1.0 in ./.local/lib/python3.6/site-packages (from azure-mgmt~=4.0->azure>=4.0.0->kubeflow) (0.1.0)\n",
      "Requirement already satisfied: azure-mgmt-iothub~=0.5.0 in ./.local/lib/python3.6/site-packages (from azure-mgmt~=4.0->azure>=4.0.0->kubeflow) (0.5.0)\n",
      "Requirement already satisfied: azure-mgmt-managementpartner~=0.1.0 in ./.local/lib/python3.6/site-packages (from azure-mgmt~=4.0->azure>=4.0.0->kubeflow) (0.1.1)\n",
      "Requirement already satisfied: azure-mgmt-containerservice~=4.2 in ./.local/lib/python3.6/site-packages (from azure-mgmt~=4.0->azure>=4.0.0->kubeflow) (4.4.0)\n",
      "Requirement already satisfied: azure-mgmt-authorization~=0.50.0 in ./.local/lib/python3.6/site-packages (from azure-mgmt~=4.0->azure>=4.0.0->kubeflow) (0.50.0)\n",
      "Requirement already satisfied: azure-mgmt-compute~=4.0 in ./.local/lib/python3.6/site-packages (from azure-mgmt~=4.0->azure>=4.0.0->kubeflow) (4.6.2)\n",
      "Requirement already satisfied: azure-mgmt-loganalytics~=0.2.0 in ./.local/lib/python3.6/site-packages (from azure-mgmt~=4.0->azure>=4.0.0->kubeflow) (0.2.0)\n",
      "Requirement already satisfied: azure-mgmt-marketplaceordering~=0.1.0 in ./.local/lib/python3.6/site-packages (from azure-mgmt~=4.0->azure>=4.0.0->kubeflow) (0.1.0)\n",
      "Requirement already satisfied: azure-mgmt-batch~=5.0 in ./.local/lib/python3.6/site-packages (from azure-mgmt~=4.0->azure>=4.0.0->kubeflow) (5.0.1)\n",
      "Requirement already satisfied: azure-mgmt-containerregistry~=2.1 in ./.local/lib/python3.6/site-packages (from azure-mgmt~=4.0->azure>=4.0.0->kubeflow) (2.8.0)\n",
      "Requirement already satisfied: azure-mgmt-signalr~=0.1.0 in ./.local/lib/python3.6/site-packages (from azure-mgmt~=4.0->azure>=4.0.0->kubeflow) (0.1.1)\n",
      "Requirement already satisfied: azure-mgmt-media~=1.0.0rc2 in ./.local/lib/python3.6/site-packages (from azure-mgmt~=4.0->azure>=4.0.0->kubeflow) (1.0.0)\n",
      "Requirement already satisfied: azure-mgmt-datalake-store~=0.5.0 in ./.local/lib/python3.6/site-packages (from azure-mgmt~=4.0->azure>=4.0.0->kubeflow) (0.5.0)\n",
      "Requirement already satisfied: azure-mgmt-keyvault~=1.0 in ./.local/lib/python3.6/site-packages (from azure-mgmt~=4.0->azure>=4.0.0->kubeflow) (1.1.0)\n",
      "Requirement already satisfied: azure-mgmt-machinelearningcompute~=0.4.1 in ./.local/lib/python3.6/site-packages (from azure-mgmt~=4.0->azure>=4.0.0->kubeflow) (0.4.1)\n",
      "Requirement already satisfied: azure-mgmt-redis~=5.0 in ./.local/lib/python3.6/site-packages (from azure-mgmt~=4.0->azure>=4.0.0->kubeflow) (5.0.0)\n",
      "Requirement already satisfied: azure-mgmt-recoveryservices~=0.3.0 in ./.local/lib/python3.6/site-packages (from azure-mgmt~=4.0->azure>=4.0.0->kubeflow) (0.3.0)\n",
      "Requirement already satisfied: azure-mgmt-sql~=0.9.1 in ./.local/lib/python3.6/site-packages (from azure-mgmt~=4.0->azure>=4.0.0->kubeflow) (0.9.1)\n",
      "Requirement already satisfied: azure-mgmt-datalake-analytics~=0.6.0 in ./.local/lib/python3.6/site-packages (from azure-mgmt~=4.0->azure>=4.0.0->kubeflow) (0.6.0)\n",
      "Requirement already satisfied: azure-mgmt-containerinstance~=1.0 in ./.local/lib/python3.6/site-packages (from azure-mgmt~=4.0->azure>=4.0.0->kubeflow) (1.5.0)\n",
      "Requirement already satisfied: azure-mgmt-cosmosdb~=0.4.1 in ./.local/lib/python3.6/site-packages (from azure-mgmt~=4.0->azure>=4.0.0->kubeflow) (0.4.1)\n",
      "Requirement already satisfied: azure-mgmt-eventgrid~=1.0 in ./.local/lib/python3.6/site-packages (from azure-mgmt~=4.0->azure>=4.0.0->kubeflow) (1.0.0)\n",
      "Requirement already satisfied: azure-mgmt-batchai~=2.0 in ./.local/lib/python3.6/site-packages (from azure-mgmt~=4.0->azure>=4.0.0->kubeflow) (2.0.0)\n",
      "Requirement already satisfied: azure-mgmt-billing~=0.2.0 in ./.local/lib/python3.6/site-packages (from azure-mgmt~=4.0->azure>=4.0.0->kubeflow) (0.2.0)\n",
      "Requirement already satisfied: azure-mgmt-commerce~=1.0 in ./.local/lib/python3.6/site-packages (from azure-mgmt~=4.0->azure>=4.0.0->kubeflow) (1.0.1)\n",
      "Requirement already satisfied: azure-mgmt-network~=2.0 in ./.local/lib/python3.6/site-packages (from azure-mgmt~=4.0->azure>=4.0.0->kubeflow) (2.7.0)\n",
      "Requirement already satisfied: azure-mgmt-datafactory~=0.6.0 in ./.local/lib/python3.6/site-packages (from azure-mgmt~=4.0->azure>=4.0.0->kubeflow) (0.6.0)\n",
      "Requirement already satisfied: azure-mgmt-datamigration~=1.0 in ./.local/lib/python3.6/site-packages (from azure-mgmt~=4.0->azure>=4.0.0->kubeflow) (1.0.0)\n",
      "Requirement already satisfied: azure-mgmt-rdbms~=1.2 in ./.local/lib/python3.6/site-packages (from azure-mgmt~=4.0->azure>=4.0.0->kubeflow) (1.9.0)\n",
      "Requirement already satisfied: azure-mgmt-scheduler~=2.0 in ./.local/lib/python3.6/site-packages (from azure-mgmt~=4.0->azure>=4.0.0->kubeflow) (2.0.0)\n",
      "Requirement already satisfied: azure-mgmt-eventhub~=2.1 in ./.local/lib/python3.6/site-packages (from azure-mgmt~=4.0->azure>=4.0.0->kubeflow) (2.6.0)\n",
      "Requirement already satisfied: azure-mgmt-web~=0.35.0 in ./.local/lib/python3.6/site-packages (from azure-mgmt~=4.0->azure>=4.0.0->kubeflow) (0.35.0)\n",
      "Requirement already satisfied: azure-mgmt-search~=2.0 in ./.local/lib/python3.6/site-packages (from azure-mgmt~=4.0->azure>=4.0.0->kubeflow) (2.1.0)\n",
      "Requirement already satisfied: azure-mgmt-devtestlabs~=2.2 in ./.local/lib/python3.6/site-packages (from azure-mgmt~=4.0->azure>=4.0.0->kubeflow) (2.2.0)\n",
      "Requirement already satisfied: azure-mgmt-iotcentral~=0.1.0 in ./.local/lib/python3.6/site-packages (from azure-mgmt~=4.0->azure>=4.0.0->kubeflow) (0.1.0)\n",
      "Requirement already satisfied: azure-mgmt-managementgroups~=0.1.0 in ./.local/lib/python3.6/site-packages (from azure-mgmt~=4.0->azure>=4.0.0->kubeflow) (0.1.0)\n",
      "Requirement already satisfied: azure-mgmt-msi~=0.2.0 in ./.local/lib/python3.6/site-packages (from azure-mgmt~=4.0->azure>=4.0.0->kubeflow) (0.2.0)\n",
      "Requirement already satisfied: azure-mgmt-policyinsights~=0.1.0 in ./.local/lib/python3.6/site-packages (from azure-mgmt~=4.0->azure>=4.0.0->kubeflow) (0.1.0)\n",
      "Requirement already satisfied: azure-mgmt-logic~=3.0 in ./.local/lib/python3.6/site-packages (from azure-mgmt~=4.0->azure>=4.0.0->kubeflow) (3.0.0)\n",
      "Requirement already satisfied: azure-mgmt-storage~=2.0 in ./.local/lib/python3.6/site-packages (from azure-mgmt~=4.0->azure>=4.0.0->kubeflow) (2.0.0)\n",
      "Requirement already satisfied: azure-mgmt-applicationinsights~=0.1.1 in ./.local/lib/python3.6/site-packages (from azure-mgmt~=4.0->azure>=4.0.0->kubeflow) (0.1.1)\n",
      "Requirement already satisfied: azure-mgmt-iothubprovisioningservices~=0.2.0 in ./.local/lib/python3.6/site-packages (from azure-mgmt~=4.0->azure>=4.0.0->kubeflow) (0.2.0)\n",
      "Requirement already satisfied: azure-mgmt-devspaces~=0.1.0 in ./.local/lib/python3.6/site-packages (from azure-mgmt~=4.0->azure>=4.0.0->kubeflow) (0.1.0)\n",
      "Requirement already satisfied: azure-mgmt-resource~=2.0 in ./.local/lib/python3.6/site-packages (from azure-mgmt~=4.0->azure>=4.0.0->kubeflow) (2.2.0)\n",
      "Requirement already satisfied: azure-mgmt-dns~=2.0 in ./.local/lib/python3.6/site-packages (from azure-mgmt~=4.0->azure>=4.0.0->kubeflow) (2.1.0)\n",
      "Requirement already satisfied: azure-mgmt-powerbiembedded~=2.0 in ./.local/lib/python3.6/site-packages (from azure-mgmt~=4.0->azure>=4.0.0->kubeflow) (2.0.0)\n",
      "Requirement already satisfied: azure-mgmt-servicefabric~=0.2.0 in ./.local/lib/python3.6/site-packages (from azure-mgmt~=4.0->azure>=4.0.0->kubeflow) (0.2.0)\n",
      "Requirement already satisfied: azure-mgmt-cdn~=3.0 in ./.local/lib/python3.6/site-packages (from azure-mgmt~=4.0->azure>=4.0.0->kubeflow) (3.1.0)\n",
      "Requirement already satisfied: azure-mgmt-trafficmanager~=0.50.0 in ./.local/lib/python3.6/site-packages (from azure-mgmt~=4.0->azure>=4.0.0->kubeflow) (0.50.0)\n",
      "Requirement already satisfied: azure-mgmt-notificationhubs~=2.0 in ./.local/lib/python3.6/site-packages (from azure-mgmt~=4.0->azure>=4.0.0->kubeflow) (2.1.0)\n",
      "Requirement already satisfied: azure-mgmt-servicebus~=0.5.1 in ./.local/lib/python3.6/site-packages (from azure-mgmt~=4.0->azure>=4.0.0->kubeflow) (0.5.3)\n",
      "Requirement already satisfied: azure-mgmt-advisor~=1.0 in ./.local/lib/python3.6/site-packages (from azure-mgmt~=4.0->azure>=4.0.0->kubeflow) (1.0.1)\n",
      "Requirement already satisfied: azure-mgmt-maps~=0.1.0 in ./.local/lib/python3.6/site-packages (from azure-mgmt~=4.0->azure>=4.0.0->kubeflow) (0.1.0)\n",
      "Requirement already satisfied: azure-mgmt-reservations~=0.2.1 in ./.local/lib/python3.6/site-packages (from azure-mgmt~=4.0->azure>=4.0.0->kubeflow) (0.2.1)\n",
      "Requirement already satisfied: azure-mgmt-cognitiveservices~=3.0 in ./.local/lib/python3.6/site-packages (from azure-mgmt~=4.0->azure>=4.0.0->kubeflow) (3.0.0)\n",
      "Requirement already satisfied: azure-mgmt-consumption~=2.0 in ./.local/lib/python3.6/site-packages (from azure-mgmt~=4.0->azure>=4.0.0->kubeflow) (2.0.0)\n",
      "Requirement already satisfied: azure-mgmt-subscription~=0.2.0 in ./.local/lib/python3.6/site-packages (from azure-mgmt~=4.0->azure>=4.0.0->kubeflow) (0.2.0)\n",
      "Requirement already satisfied: azure-mgmt-hanaonazure~=0.1.1 in ./.local/lib/python3.6/site-packages (from azure-mgmt~=4.0->azure>=4.0.0->kubeflow) (0.1.1)\n",
      "Requirement already satisfied: azure-mgmt-recoveryservicesbackup~=0.3.0 in ./.local/lib/python3.6/site-packages (from azure-mgmt~=4.0->azure>=4.0.0->kubeflow) (0.3.0)\n",
      "Requirement already satisfied: ipython>=5.0.0 in /usr/local/lib/python3.6/dist-packages (from ipykernel->notebook>=5.6.0->kubeflow) (7.11.1)\n",
      "Requirement already satisfied: MarkupSafe>=0.23 in /usr/local/lib/python3.6/dist-packages (from jinja2->notebook>=5.6.0->kubeflow) (1.1.1)\n",
      "Requirement already satisfied: jsonschema!=2.5.0,>=2.4 in /usr/local/lib/python3.6/dist-packages (from nbformat->notebook>=5.6.0->kubeflow) (3.2.0)\n",
      "Requirement already satisfied: pandocfilters>=1.4.1 in /usr/local/lib/python3.6/dist-packages (from nbconvert->notebook>=5.6.0->kubeflow) (1.4.2)\n",
      "Requirement already satisfied: defusedxml in /usr/local/lib/python3.6/dist-packages (from nbconvert->notebook>=5.6.0->kubeflow) (0.6.0)\n",
      "Requirement already satisfied: entrypoints>=0.2.2 in /usr/local/lib/python3.6/dist-packages (from nbconvert->notebook>=5.6.0->kubeflow) (0.3)\n",
      "Requirement already satisfied: pygments in /usr/local/lib/python3.6/dist-packages (from nbconvert->notebook>=5.6.0->kubeflow) (2.5.2)\n",
      "Requirement already satisfied: mistune<2,>=0.8.1 in /usr/local/lib/python3.6/dist-packages (from nbconvert->notebook>=5.6.0->kubeflow) (0.8.4)\n",
      "Requirement already satisfied: testpath in /usr/local/lib/python3.6/dist-packages (from nbconvert->notebook>=5.6.0->kubeflow) (0.4.4)\n",
      "Requirement already satisfied: bleach in /usr/local/lib/python3.6/dist-packages (from nbconvert->notebook>=5.6.0->kubeflow) (3.1.0)\n",
      "Requirement already satisfied: decorator in /usr/local/lib/python3.6/dist-packages (from traitlets>=4.2.1->notebook>=5.6.0->kubeflow) (4.4.1)\n",
      "Requirement already satisfied: ptyprocess; os_name != \"nt\" in /usr/local/lib/python3.6/dist-packages (from terminado>=0.8.1->notebook>=5.6.0->kubeflow) (0.6.0)\n",
      "Requirement already satisfied: google-api-core<2.0.0dev,>=1.16.0 in /usr/local/lib/python3.6/dist-packages (from google-cloud-core<2.0dev,>=1.2.0->google-cloud-storage>=1.13.2->kubeflow) (1.16.0)\n",
      "Requirement already satisfied: isodate>=0.6.0 in ./.local/lib/python3.6/site-packages (from msrest<2.0.0,>=0.5.4->azure-applicationinsights~=0.1.0->azure>=4.0.0->kubeflow) (0.6.0)\n",
      "Requirement already satisfied: PyJWT>=1.0.0 in ./.local/lib/python3.6/site-packages (from adal>=0.4.2->azure-datalake-store~=0.0.18->azure>=4.0.0->kubeflow) (1.7.1)\n",
      "Requirement already satisfied: pycparser in ./.local/lib/python3.6/site-packages (from cffi->azure-datalake-store~=0.0.18->azure>=4.0.0->kubeflow) (2.20)\n",
      "Requirement already satisfied: azure-mgmt-nspkg>=2.0.0 in ./.local/lib/python3.6/site-packages (from azure-mgmt-monitor~=0.5.2->azure-mgmt~=4.0->azure>=4.0.0->kubeflow) (3.0.2)\n",
      "Requirement already satisfied: azure-mgmt-datalake-nspkg>=2.0.0 in ./.local/lib/python3.6/site-packages (from azure-mgmt-datalake-store~=0.5.0->azure-mgmt~=4.0->azure>=4.0.0->kubeflow) (3.0.1)\n",
      "Requirement already satisfied: pickleshare in /usr/local/lib/python3.6/dist-packages (from ipython>=5.0.0->ipykernel->notebook>=5.6.0->kubeflow) (0.7.5)\n",
      "Requirement already satisfied: jedi>=0.10 in /usr/local/lib/python3.6/dist-packages (from ipython>=5.0.0->ipykernel->notebook>=5.6.0->kubeflow) (0.15.2)\n",
      "Requirement already satisfied: pexpect; sys_platform != \"win32\" in /usr/local/lib/python3.6/dist-packages (from ipython>=5.0.0->ipykernel->notebook>=5.6.0->kubeflow) (4.7.0)\n",
      "Requirement already satisfied: prompt-toolkit!=3.0.0,!=3.0.1,<3.1.0,>=2.0.0 in /usr/local/lib/python3.6/dist-packages (from ipython>=5.0.0->ipykernel->notebook>=5.6.0->kubeflow) (2.0.10)\n",
      "Requirement already satisfied: backcall in /usr/local/lib/python3.6/dist-packages (from ipython>=5.0.0->ipykernel->notebook>=5.6.0->kubeflow) (0.1.0)\n",
      "Requirement already satisfied: attrs>=17.4.0 in /usr/local/lib/python3.6/dist-packages (from jsonschema!=2.5.0,>=2.4->nbformat->notebook>=5.6.0->kubeflow) (19.3.0)\n",
      "Requirement already satisfied: importlib-metadata; python_version < \"3.8\" in /usr/local/lib/python3.6/dist-packages (from jsonschema!=2.5.0,>=2.4->nbformat->notebook>=5.6.0->kubeflow) (1.4.0)\n",
      "Requirement already satisfied: pyrsistent>=0.14.0 in /usr/local/lib/python3.6/dist-packages (from jsonschema!=2.5.0,>=2.4->nbformat->notebook>=5.6.0->kubeflow) (0.15.7)\n",
      "Requirement already satisfied: webencodings in /usr/local/lib/python3.6/dist-packages (from bleach->nbconvert->notebook>=5.6.0->kubeflow) (0.5.1)\n",
      "Requirement already satisfied: protobuf>=3.4.0 in /usr/local/lib/python3.6/dist-packages (from google-api-core<2.0.0dev,>=1.16.0->google-cloud-core<2.0dev,>=1.2.0->google-cloud-storage>=1.13.2->kubeflow) (3.11.2)\n",
      "Requirement already satisfied: pytz in /usr/local/lib/python3.6/dist-packages (from google-api-core<2.0.0dev,>=1.16.0->google-cloud-core<2.0dev,>=1.2.0->google-cloud-storage>=1.13.2->kubeflow) (2019.3)\n",
      "Requirement already satisfied: googleapis-common-protos<2.0dev,>=1.6.0 in /usr/local/lib/python3.6/dist-packages (from google-api-core<2.0.0dev,>=1.16.0->google-cloud-core<2.0dev,>=1.2.0->google-cloud-storage>=1.13.2->kubeflow) (1.51.0)\n",
      "Requirement already satisfied: parso>=0.5.2 in /usr/local/lib/python3.6/dist-packages (from jedi>=0.10->ipython>=5.0.0->ipykernel->notebook>=5.6.0->kubeflow) (0.5.2)\n",
      "Requirement already satisfied: wcwidth in /usr/local/lib/python3.6/dist-packages (from prompt-toolkit!=3.0.0,!=3.0.1,<3.1.0,>=2.0.0->ipython>=5.0.0->ipykernel->notebook>=5.6.0->kubeflow) (0.1.8)\n",
      "Requirement already satisfied: zipp>=0.5 in /usr/local/lib/python3.6/dist-packages (from importlib-metadata; python_version < \"3.8\"->jsonschema!=2.5.0,>=2.4->nbformat->notebook>=5.6.0->kubeflow) (0.6.0)\n",
      "Requirement already satisfied: more-itertools in /usr/local/lib/python3.6/dist-packages (from zipp>=0.5->importlib-metadata; python_version < \"3.8\"->jsonschema!=2.5.0,>=2.4->nbformat->notebook>=5.6.0->kubeflow) (8.0.2)\n",
      "\u001b[33mWARNING: You are using pip version 19.3.1; however, version 20.0.2 is available.\n",
      "You should consider upgrading via the 'pip install --upgrade pip' command.\u001b[0m\n"
     ]
    }
   ],
   "source": [
    "!pip install --user --upgrade \n",
    "!pip install --user pandas\n",
    "!pip install --user tensorflow\n",
    "!pip install --user keras\n",
    "!pip install --user numpy\n",
    "!pip install --user gcsfs\n",
    "!pip install --user google-cloud-storage\n",
    "!pip install --user gensim\n",
    "!pip install --user kubeflow"
   ]
  },
  {
   "cell_type": "markdown",
   "metadata": {},
   "source": [
    "We install a recent fairing commit, we hit a couple of bugs with the released one: https://github.com/kubeflow/kubeflow/issues/3643 "
   ]
  },
  {
   "cell_type": "code",
   "execution_count": null,
   "metadata": {},
   "outputs": [],
   "source": [
    "!pip install --user git+git://github.com/kubeflow/fairing.git@dc61c4c88f233edaf22b13bbfb184ded0ed877a4"
   ]
  },
  {
   "cell_type": "markdown",
   "metadata": {},
   "source": [
    "## 01.Data preparation"
   ]
  },
  {
   "cell_type": "code",
   "execution_count": 4,
   "metadata": {},
   "outputs": [],
   "source": [
    "import pandas as pd\n",
    "import numpy as np\n",
    "import matplotlib.pyplot as plt\n",
    "from tensorflow.keras.preprocessing.sequence import pad_sequences\n",
    "from tensorflow.keras.preprocessing.text import Tokenizer\n",
    "from tensorflow.keras.utils import to_categorical\n",
    "import gensim.models.keyedvectors as word2vec\n",
    "from gensim.models import Word2Vec"
   ]
  },
  {
   "cell_type": "markdown",
   "metadata": {},
   "source": [
    "We will start by loading train and test data files from Google Cloud Storage. We will using the Wikipedia Movies Plot Dataset (https://www.kaggle.com/jrobischon/wikipedia-movie-plots). This dataset features plot summary descriptions scraped from Wikipedia."
   ]
  },
  {
   "cell_type": "code",
   "execution_count": 5,
   "metadata": {},
   "outputs": [],
   "source": [
    "train_data_path = 'data/wiki_movie_plots_deduped.csv'\n",
    "test_data_path = 'data/wiki_movie_plots_deduped_test.csv'\n",
    "gcp_bucket = 'velascoluis-test'\n",
    "column_target_value = 'Genre'\n",
    "column_text_value = 'Plot'"
   ]
  },
  {
   "cell_type": "markdown",
   "metadata": {},
   "source": [
    "We drop rows with missing data and deduplicate rows"
   ]
  },
  {
   "cell_type": "code",
   "execution_count": 6,
   "metadata": {},
   "outputs": [],
   "source": [
    "train_data_load = pd.read_csv(\"gs://\" + gcp_bucket + \"/\" + train_data_path, sep=',')\n",
    "test_data_load = pd.read_csv(\"gs://\" + gcp_bucket + \"/\" + test_data_path, sep=',')\n",
    "train_data = train_data_load.dropna().drop_duplicates(subset=column_text_value, keep='first', inplace=False)\n",
    "test_data = test_data_load.dropna().drop_duplicates(subset=column_text_value, keep='first', inplace=False)"
   ]
  },
  {
   "cell_type": "markdown",
   "metadata": {},
   "source": [
    "Lets have a glimpse of the data"
   ]
  },
  {
   "cell_type": "code",
   "execution_count": null,
   "metadata": {},
   "outputs": [],
   "source": [
    "train_data.head()"
   ]
  },
  {
   "cell_type": "markdown",
   "metadata": {},
   "source": [
    "We will focus on two columns: Plot and Genre. The algorithm goal will be to infer the movie genre based on the plot.\n",
    "Next step is to drop rows with unknown genre"
   ]
  },
  {
   "cell_type": "code",
   "execution_count": null,
   "metadata": {},
   "outputs": [],
   "source": [
    "train_data = train_data[train_data.Genre != 'unknown']"
   ]
  },
  {
   "cell_type": "code",
   "execution_count": null,
   "metadata": {},
   "outputs": [],
   "source": [
    "train_data.head()"
   ]
  },
  {
   "cell_type": "markdown",
   "metadata": {},
   "source": [
    "We will exploring the histogram of genres distribution"
   ]
  },
  {
   "cell_type": "code",
   "execution_count": null,
   "metadata": {},
   "outputs": [],
   "source": [
    "plt.hist(train_data[column_target_value], color = 'blue', edgecolor = 'black')\n",
    "plt.title('Histogram of movies by genre')\n",
    "plt.xlabel('Genre')\n",
    "plt.ylabel('Movies')"
   ]
  },
  {
   "cell_type": "markdown",
   "metadata": {},
   "source": [
    "The data is severely swekedm and we have a long tail of genres."
   ]
  },
  {
   "cell_type": "code",
   "execution_count": 26,
   "metadata": {},
   "outputs": [
    {
     "data": {
      "text/plain": [
       "drama                                                               5750\n",
       "unknown                                                             5105\n",
       "comedy                                                              4304\n",
       "horror                                                              1103\n",
       "action                                                              1051\n",
       "                                                                    ... \n",
       "drama / war / comedy / action                                          1\n",
       "raghava lawrence, prabhu deva, raja, charmme, kamalini mukherjee       1\n",
       "mythology (fiction)                                                    1\n",
       "war, drama, historical                                                 1\n",
       "animation, musical, comedy                                             1\n",
       "Name: Genre, Length: 2141, dtype: int64"
      ]
     },
     "execution_count": 26,
     "metadata": {},
     "output_type": "execute_result"
    }
   ],
   "source": [
    "train_data[column_target_value].value_counts()"
   ]
  },
  {
   "cell_type": "markdown",
   "metadata": {},
   "source": [
    "We will focus only on the genres featuring at least 900 observations"
   ]
  },
  {
   "cell_type": "code",
   "execution_count": 7,
   "metadata": {},
   "outputs": [],
   "source": [
    "train_data = train_data.groupby(column_target_value).filter(lambda x : len(x)>900)"
   ]
  },
  {
   "cell_type": "code",
   "execution_count": 9,
   "metadata": {},
   "outputs": [
    {
     "data": {
      "text/plain": [
       "drama       5750\n",
       "unknown     5105\n",
       "comedy      4304\n",
       "horror      1103\n",
       "action      1051\n",
       "thriller     936\n",
       "Name: Genre, dtype: int64"
      ]
     },
     "execution_count": 9,
     "metadata": {},
     "output_type": "execute_result"
    }
   ],
   "source": [
    "train_data[column_target_value].value_counts()"
   ]
  },
  {
   "cell_type": "markdown",
   "metadata": {},
   "source": [
    "In order to balance the data, we will randomly trim data from the drama and comeny genres"
   ]
  },
  {
   "cell_type": "code",
   "execution_count": 8,
   "metadata": {},
   "outputs": [],
   "source": [
    "train_data = train_data.drop(((train_data[train_data[column_target_value] == 'drama' ]).sample(frac=.8,random_state=100).index))\n",
    "train_data = train_data.drop(((train_data[train_data[column_target_value] == 'comedy' ]).sample(frac=.75,random_state=100).index))"
   ]
  },
  {
   "cell_type": "code",
   "execution_count": 29,
   "metadata": {},
   "outputs": [
    {
     "data": {
      "text/plain": [
       "unknown     5105\n",
       "drama       1150\n",
       "horror      1103\n",
       "comedy      1076\n",
       "action      1051\n",
       "thriller     936\n",
       "Name: Genre, dtype: int64"
      ]
     },
     "execution_count": 29,
     "metadata": {},
     "output_type": "execute_result"
    }
   ],
   "source": [
    "train_data[column_target_value].value_counts()"
   ]
  },
  {
   "cell_type": "code",
   "execution_count": null,
   "metadata": {},
   "outputs": [],
   "source": [
    "plt.hist(train_data[column_target_value], color = 'blue', edgecolor = 'black')\n",
    "plt.title('Histogram of movies by genre')\n",
    "plt.xlabel('Genre')\n",
    "plt.ylabel('Movies')"
   ]
  },
  {
   "cell_type": "code",
   "execution_count": 9,
   "metadata": {},
   "outputs": [
    {
     "name": "stdout",
     "output_type": "stream",
     "text": [
      "['unknown' 'comedy' 'drama' 'horror' 'thriller' 'action']\n"
     ]
    }
   ],
   "source": [
    "classifier_values = train_data[column_target_value].unique()\n",
    "print(classifier_values)"
   ]
  },
  {
   "cell_type": "markdown",
   "metadata": {},
   "source": [
    "As a next step, we will generate numerical labels for the genres"
   ]
  },
  {
   "cell_type": "code",
   "execution_count": 10,
   "metadata": {},
   "outputs": [],
   "source": [
    "dic = {}\n",
    "for i, class_value in enumerate(classifier_values):\n",
    "    dic[class_value] = i\n",
    "labels = train_data[column_target_value].apply(lambda x: dic[x])\n",
    "num_classes = i + 1"
   ]
  },
  {
   "cell_type": "markdown",
   "metadata": {},
   "source": [
    "We also split the data between training and validation"
   ]
  },
  {
   "cell_type": "code",
   "execution_count": 11,
   "metadata": {},
   "outputs": [],
   "source": [
    "val_data_pct = 0.2\n",
    "val_data = train_data.sample(frac=val_data_pct, random_state=200)\n",
    "train_data = train_data.drop(val_data.index)"
   ]
  },
  {
   "cell_type": "markdown",
   "metadata": {},
   "source": [
    "Next, will be generating representations of the sentences to classify, we create a vocabulary index based on word frequency and then transform the text to numerical vectors"
   ]
  },
  {
   "cell_type": "code",
   "execution_count": 12,
   "metadata": {},
   "outputs": [],
   "source": [
    "num_words = 10000\n",
    "texts = train_data[column_text_value]\n",
    "tokenizer = Tokenizer(num_words=num_words, filters='!\"#$%&()*+,-./:;<=>?@[\\\\]^_`{|}~\\t\\n\\'', lower=True)\n",
    "tokenizer.fit_on_texts(texts)\n",
    "sequences_train = tokenizer.texts_to_sequences(texts)\n",
    "sequences_valid = tokenizer.texts_to_sequences(val_data[column_text_value])"
   ]
  },
  {
   "cell_type": "code",
   "execution_count": null,
   "metadata": {},
   "outputs": [],
   "source": [
    "print(sequences_train[0])"
   ]
  },
  {
   "cell_type": "markdown",
   "metadata": {},
   "source": [
    "Now , we pad the sequences so all of them will have the same lenght, for the labels text we create categorical vectors"
   ]
  },
  {
   "cell_type": "code",
   "execution_count": 13,
   "metadata": {},
   "outputs": [],
   "source": [
    "x_train = pad_sequences(sequences_train)\n",
    "sequence_length = x_train.shape[1]\n",
    "x_val = pad_sequences(sequences_valid, maxlen=sequence_length)\n",
    "y_train = to_categorical(np.asarray(labels[train_data.index]))\n",
    "y_val = to_categorical(np.asarray(labels[val_data.index]))"
   ]
  },
  {
   "cell_type": "code",
   "execution_count": null,
   "metadata": {},
   "outputs": [],
   "source": [
    "print(x_val[2])"
   ]
  },
  {
   "cell_type": "code",
   "execution_count": null,
   "metadata": {},
   "outputs": [],
   "source": [
    "print(y_train[1])"
   ]
  },
  {
   "cell_type": "markdown",
   "metadata": {},
   "source": [
    "Now, we will generate the word embeddings, we will use transfer learning and re-use a pretrained word2vec model. In this case we will use GloVe (https://nlp.stanford.edu/projects/glove/) 100 dimensions. We had to tranform the Glove representation to word2vec using the glove2word2vec util"
   ]
  },
  {
   "cell_type": "code",
   "execution_count": null,
   "metadata": {},
   "outputs": [],
   "source": [
    "embedding_dim = 100\n",
    "w2v_model_path = 'model/word2vec100d.txt'\n",
    "w2v_model = word2vec.KeyedVectors.load_word2vec_format(\"gs://\" + gcp_bucket + \"/\" + w2v_model_path)\n",
    "word_vectors = w2v_model.wv\n",
    "word_index = tokenizer.word_index\n",
    "vocabulary_size = min(len(tokenizer.word_index) + 1, num_words)\n",
    "embedding_matrix = np.zeros((vocabulary_size, embedding_dim))\n",
    "for word, i in word_index.items():\n",
    "    if i >= num_words:\n",
    "        continue\n",
    "    try:\n",
    "        embedding_vector = word_vectors[word]\n",
    "        embedding_matrix[i] = embedding_vector\n",
    "    except KeyError:\n",
    "        embedding_matrix[i] = np.random.normal(0, np.sqrt(0.25), embedding_dim)"
   ]
  },
  {
   "cell_type": "code",
   "execution_count": 38,
   "metadata": {},
   "outputs": [
    {
     "data": {
      "text/plain": [
       "[('winter', 0.8896949291229248),\n",
       " ('spring', 0.8580389022827148),\n",
       " ('autumn', 0.7742397785186768),\n",
       " ('weekend', 0.7385302782058716),\n",
       " ('year', 0.7348464131355286),\n",
       " ('days', 0.725011944770813),\n",
       " ('beginning', 0.7218300104141235),\n",
       " ('during', 0.7205086946487427),\n",
       " ('season', 0.7031365633010864),\n",
       " ('day', 0.7015056610107422)]"
      ]
     },
     "execution_count": 38,
     "metadata": {},
     "output_type": "execute_result"
    }
   ],
   "source": [
    "w2v_model.most_similar('summer')"
   ]
  },
  {
   "cell_type": "markdown",
   "metadata": {},
   "source": [
    "## 02.Model generation and training - RNN version"
   ]
  },
  {
   "cell_type": "code",
   "execution_count": 50,
   "metadata": {},
   "outputs": [],
   "source": [
    "from tensorflow.keras.callbacks import EarlyStopping\n",
    "from tensorflow.keras.callbacks import TensorBoard\n",
    "from tensorflow.keras.layers import Input, Dense, Embedding, Conv2D, MaxPooling2D, Dropout, concatenate, Reshape, \\\n",
    "    Flatten, LSTM\n",
    "from tensorflow.keras.models import Model\n",
    "from tensorflow.keras.optimizers import Adam\n",
    "from tensorflow.keras import regularizers\n",
    "from tensorflow.keras.losses import BinaryCrossentropy\n",
    "import datetime\n",
    "import os"
   ]
  },
  {
   "cell_type": "code",
   "execution_count": 40,
   "metadata": {},
   "outputs": [],
   "source": [
    "from tensorflow.keras import Sequential\n",
    "from tensorflow.keras.layers import Bidirectional"
   ]
  },
  {
   "cell_type": "code",
   "execution_count": null,
   "metadata": {},
   "outputs": [],
   "source": [
    "model = Sequential()\n",
    "model.add(Embedding(vocabulary_size, embedding_dim, weights=[embedding_matrix], trainable=True))\n",
    "model.add(Bidirectional(LSTM(16)))\n",
    "model.add(Dense(16, activation='relu'))\n",
    "model.add(Dense(units=num_classes, activation='softmax', kernel_regularizer=regularizers.l2(0.01)))"
   ]
  },
  {
   "cell_type": "code",
   "execution_count": 52,
   "metadata": {},
   "outputs": [],
   "source": [
    "model.compile(loss=BinaryCrossentropy(from_logits=True),\n",
    "              optimizer=Adam(1e-3),\n",
    "              metrics=['accuracy'])"
   ]
  },
  {
   "cell_type": "code",
   "execution_count": 45,
   "metadata": {},
   "outputs": [
    {
     "name": "stdout",
     "output_type": "stream",
     "text": [
      "Model: \"sequential_1\"\n",
      "_________________________________________________________________\n",
      "Layer (type)                 Output Shape              Param #   \n",
      "=================================================================\n",
      "embedding_1 (Embedding)      (None, None, 100)         1000000   \n",
      "_________________________________________________________________\n",
      "bidirectional (Bidirectional (None, 128)               84480     \n",
      "_________________________________________________________________\n",
      "dense (Dense)                (None, 64)                8256      \n",
      "_________________________________________________________________\n",
      "dense_1 (Dense)              (None, 6)                 390       \n",
      "=================================================================\n",
      "Total params: 1,093,126\n",
      "Trainable params: 1,093,126\n",
      "Non-trainable params: 0\n",
      "_________________________________________________________________\n",
      "None\n"
     ]
    }
   ],
   "source": [
    "print(model.summary())"
   ]
  },
  {
   "cell_type": "code",
   "execution_count": null,
   "metadata": {},
   "outputs": [
    {
     "name": "stdout",
     "output_type": "stream",
     "text": [
      "Train on 8337 samples, validate on 2084 samples\n",
      "Epoch 1/20\n"
     ]
    }
   ],
   "source": [
    "epochs = 20\n",
    "batch_size = 500\n",
    "now = datetime.datetime.utcnow().strftime(\"%Y%m%d%H%M%S\")\n",
    "root_logdir = \"model/tf_logs\"\n",
    "if not os.path.exists(root_logdir):\n",
    "    os.mkdir(root_logdir)\n",
    "log_dir = \"{}/run-{}/\".format(root_logdir, now)\n",
    "callback_tensorboard = TensorBoard(log_dir=log_dir, histogram_freq=1)\n",
    "callback_earlystopping = EarlyStopping(monitor='val_loss')\n",
    "\n",
    "model.fit(x_train, y_train, batch_size=batch_size, epochs=epochs, verbose=1, validation_data=(x_val, y_val),\n",
    "                  callbacks=[callback_earlystopping, callback_tensorboard])\n",
    "loss, acc = model.evaluate(x_train, y_train, verbose=2)\n",
    "print(\"Accuracy = {:5.2f}%\".format(100 * acc))\n",
    "print(\"Loss = {:5.2f}%\".format(100 * loss))"
   ]
  },
  {
   "cell_type": "code",
   "execution_count": null,
   "metadata": {},
   "outputs": [],
   "source": []
  }
 ],
 "metadata": {
  "kernelspec": {
   "display_name": "Python 3",
   "language": "python",
   "name": "python3"
  },
  "language_info": {
   "codemirror_mode": {
    "name": "ipython",
    "version": 3
   },
   "file_extension": ".py",
   "mimetype": "text/x-python",
   "name": "python",
   "nbconvert_exporter": "python",
   "pygments_lexer": "ipython3",
   "version": "3.6.9"
  }
 },
 "nbformat": 4,
 "nbformat_minor": 4
}
